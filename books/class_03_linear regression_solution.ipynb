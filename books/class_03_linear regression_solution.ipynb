{
 "cells": [
  {
   "cell_type": "code",
   "execution_count": null,
   "metadata": {
    "id": "BlJE8q26QWBd"
   },
   "outputs": [],
   "source": [
    "# MIT License"
   ]
  },
  {
   "cell_type": "markdown",
   "metadata": {},
   "source": [
    "# Practicas 1: Regresão Linear\n",
    "## House Prices - Advanced Regression Techniques\n",
    "\n",
    "Peça a um comprador de imóvel residencial para descrever a casa dos seus sonhos, e provavelmente não começará com a altura do teto do porão ou a proximidade de uma ferrovia leste-oeste. Mas o conjunto de dados dessa competição de playground prova que influencia muito mais as negociações de preços do que o número de quartos ou uma cerca branca.\n",
    "Com 79 variáveis ​​explicativas que descrevem (quase) todos os aspectos das casas residenciais em Ames, Iowa, esta competição desafia você a prever o preço final de cada casa.\n",
    "\n",
    "Neste desafio de kaggle sua função é prever o preço de venda de cada casa. Para cada Id no conjunto de teste, você deve prever o valor da variável SalePrice. \n",
    "\n",
    "https://www.kaggle.com/c/house-prices-advanced-regression-techniques/overview \n"
   ]
  },
  {
   "cell_type": "markdown",
   "metadata": {
    "id": "WauI1_M4QXhF"
   },
   "source": [
    "## Objetivos do aprendizado:\n",
    "Depois de fazer este Colab, você saberá como:\n",
    "* Trabalhar com modelos de regressão linear\n",
    "* Implementar o método de gradiente descendente em uma dimensão \n",
    "* Implementar uma equação fechada empregando a Equação Normal em uma dimensão\n",
    "* Treinar um modelo de regressão linear empregando sklearn\n",
    "* Treinar um modelo de regressão linear empregando Pytorch (Optional)\n",
    "* Realizar um submission em Kaggle\n"
   ]
  },
  {
   "cell_type": "code",
   "execution_count": 2,
   "metadata": {},
   "outputs": [
    {
     "data": {
      "text/html": [
       "\n",
       "<a target=\"_blank\" href=\"https://colab.research.google.com/github/pedrodiamel/dl-mini-course/blob/main/books/class_03_linear_regression_solution.ipynb\">\n",
       "  <img src=\"https://colab.research.google.com/assets/colab-badge.svg\" alt=\"Open In Colab\"/>\n",
       "</a>\n"
      ],
      "text/plain": [
       "<IPython.core.display.HTML object>"
      ]
     },
     "metadata": {},
     "output_type": "display_data"
    }
   ],
   "source": [
    "from IPython.display import display, HTML\n",
    "display(HTML(\n",
    "\"\"\"\n",
    "<a target=\"_blank\" href=\"https://colab.research.google.com/github/pedrodiamel/dl-mini-course/blob/main/books/class_03_linear_regression_solution.ipynb\">\n",
    "  <img src=\"https://colab.research.google.com/assets/colab-badge.svg\" alt=\"Open In Colab\"/>\n",
    "</a>\n",
    "\"\"\"\n",
    "))"
   ]
  },
  {
   "cell_type": "markdown",
   "metadata": {
    "id": "pcdOR9Uy9wzz"
   },
   "source": [
    "## Datasets\n",
    "\n",
    "Baixe os dados da competição deste site: [Kaggle: House Prices - Advanced Regression Techniques](https://www.kaggle.com/c/house-prices-advanced-regression-techniques/data)"
   ]
  },
  {
   "cell_type": "code",
   "execution_count": null,
   "metadata": {},
   "outputs": [],
   "source": [
    "# kaggle competitions download -c house-prices-advanced-regression-techniques"
   ]
  },
  {
   "cell_type": "markdown",
   "metadata": {
    "id": "k9ehk2rk-X7N"
   },
   "source": [
    "## Configuração do ambiente\n",
    "O seguinte codigo importa os modulos necessários"
   ]
  },
  {
   "cell_type": "code",
   "execution_count": null,
   "metadata": {
    "id": "RtzZ-JGdTAxW"
   },
   "outputs": [],
   "source": [
    "# Load the imports\n",
    "\n",
    "# This Python 3 environment comes with many helpful analytics libraries installed\n",
    "\n",
    "import os\n",
    "import numpy as np # linear algebra\n",
    "import pandas as pd # data processing, CSV file I/O (e.g. pd.read_csv)\n",
    "\n",
    "import seaborn as sns  # visualization tool\n",
    "import matplotlib\n",
    "import matplotlib.pyplot as plt\n",
    "%matplotlib inline\n",
    "\n",
    "import missingno as msno\n",
    "sns.set()\n",
    "\n",
    "[width, height] = matplotlib.rcParams['figure.figsize']\n",
    "if width < 10:\n",
    "    matplotlib.rcParams['figure.figsize'] = [width * 2.5, height]"
   ]
  },
  {
   "cell_type": "markdown",
   "metadata": {
    "id": "El_Zv2oPTQjS"
   },
   "source": [
    "## Analisis e exploração dos dados (EDA)\n",
    "*Lembrar: Precisa carregar o house-prices-advanced-regression-techniques.zip na raiz do projeto*"
   ]
  },
  {
   "cell_type": "code",
   "execution_count": null,
   "metadata": {
    "colab": {
     "base_uri": "https://localhost:8080/"
    },
    "executionInfo": {
     "elapsed": 945,
     "status": "ok",
     "timestamp": 1648665846853,
     "user": {
      "displayName": "Pedro Diamel Marrero Fernandez",
      "userId": "01657364546851549456"
     },
     "user_tz": 180
    },
    "id": "xSSrTwzgTNgT",
    "outputId": "daa0f8d1-518b-498e-8dff-b7c0ebc2b104"
   },
   "outputs": [
    {
     "name": "stdout",
     "output_type": "stream",
     "text": [
      "Archive:  house-prices-advanced-regression-techniques.zip\n",
      "./house/train.csv\n",
      "./house/data_description.txt\n",
      "./house/test.csv\n",
      "./house/sample_submission.csv\n"
     ]
    }
   ],
   "source": [
    "!unzip -n house-prices-advanced-regression-techniques.zip -d house\n",
    "\n",
    "for dirname, _, filenames in os.walk('./house'):\n",
    "    for filename in filenames:\n",
    "        print(os.path.join(dirname, filename))"
   ]
  },
  {
   "cell_type": "code",
   "execution_count": null,
   "metadata": {
    "colab": {
     "base_uri": "https://localhost:8080/",
     "height": 300
    },
    "executionInfo": {
     "elapsed": 1027,
     "status": "ok",
     "timestamp": 1648665853998,
     "user": {
      "displayName": "Pedro Diamel Marrero Fernandez",
      "userId": "01657364546851549456"
     },
     "user_tz": 180
    },
    "id": "yJpaKzYQTlGU",
    "outputId": "ebbe35a4-a516-4f14-ca08-fb6549f73b03"
   },
   "outputs": [
    {
     "data": {
      "text/html": [
       "\n",
       "  <div id=\"df-f53c766b-3df8-4b79-a5fb-09a14ea0e078\">\n",
       "    <div class=\"colab-df-container\">\n",
       "      <div>\n",
       "<style scoped>\n",
       "    .dataframe tbody tr th:only-of-type {\n",
       "        vertical-align: middle;\n",
       "    }\n",
       "\n",
       "    .dataframe tbody tr th {\n",
       "        vertical-align: top;\n",
       "    }\n",
       "\n",
       "    .dataframe thead th {\n",
       "        text-align: right;\n",
       "    }\n",
       "</style>\n",
       "<table border=\"1\" class=\"dataframe\">\n",
       "  <thead>\n",
       "    <tr style=\"text-align: right;\">\n",
       "      <th></th>\n",
       "      <th>Id</th>\n",
       "      <th>MSSubClass</th>\n",
       "      <th>MSZoning</th>\n",
       "      <th>LotFrontage</th>\n",
       "      <th>LotArea</th>\n",
       "      <th>Street</th>\n",
       "      <th>Alley</th>\n",
       "      <th>LotShape</th>\n",
       "      <th>LandContour</th>\n",
       "      <th>Utilities</th>\n",
       "      <th>...</th>\n",
       "      <th>PoolArea</th>\n",
       "      <th>PoolQC</th>\n",
       "      <th>Fence</th>\n",
       "      <th>MiscFeature</th>\n",
       "      <th>MiscVal</th>\n",
       "      <th>MoSold</th>\n",
       "      <th>YrSold</th>\n",
       "      <th>SaleType</th>\n",
       "      <th>SaleCondition</th>\n",
       "      <th>SalePrice</th>\n",
       "    </tr>\n",
       "  </thead>\n",
       "  <tbody>\n",
       "    <tr>\n",
       "      <th>0</th>\n",
       "      <td>1</td>\n",
       "      <td>60</td>\n",
       "      <td>RL</td>\n",
       "      <td>65.0</td>\n",
       "      <td>8450</td>\n",
       "      <td>Pave</td>\n",
       "      <td>NaN</td>\n",
       "      <td>Reg</td>\n",
       "      <td>Lvl</td>\n",
       "      <td>AllPub</td>\n",
       "      <td>...</td>\n",
       "      <td>0</td>\n",
       "      <td>NaN</td>\n",
       "      <td>NaN</td>\n",
       "      <td>NaN</td>\n",
       "      <td>0</td>\n",
       "      <td>2</td>\n",
       "      <td>2008</td>\n",
       "      <td>WD</td>\n",
       "      <td>Normal</td>\n",
       "      <td>208500</td>\n",
       "    </tr>\n",
       "    <tr>\n",
       "      <th>1</th>\n",
       "      <td>2</td>\n",
       "      <td>20</td>\n",
       "      <td>RL</td>\n",
       "      <td>80.0</td>\n",
       "      <td>9600</td>\n",
       "      <td>Pave</td>\n",
       "      <td>NaN</td>\n",
       "      <td>Reg</td>\n",
       "      <td>Lvl</td>\n",
       "      <td>AllPub</td>\n",
       "      <td>...</td>\n",
       "      <td>0</td>\n",
       "      <td>NaN</td>\n",
       "      <td>NaN</td>\n",
       "      <td>NaN</td>\n",
       "      <td>0</td>\n",
       "      <td>5</td>\n",
       "      <td>2007</td>\n",
       "      <td>WD</td>\n",
       "      <td>Normal</td>\n",
       "      <td>181500</td>\n",
       "    </tr>\n",
       "    <tr>\n",
       "      <th>2</th>\n",
       "      <td>3</td>\n",
       "      <td>60</td>\n",
       "      <td>RL</td>\n",
       "      <td>68.0</td>\n",
       "      <td>11250</td>\n",
       "      <td>Pave</td>\n",
       "      <td>NaN</td>\n",
       "      <td>IR1</td>\n",
       "      <td>Lvl</td>\n",
       "      <td>AllPub</td>\n",
       "      <td>...</td>\n",
       "      <td>0</td>\n",
       "      <td>NaN</td>\n",
       "      <td>NaN</td>\n",
       "      <td>NaN</td>\n",
       "      <td>0</td>\n",
       "      <td>9</td>\n",
       "      <td>2008</td>\n",
       "      <td>WD</td>\n",
       "      <td>Normal</td>\n",
       "      <td>223500</td>\n",
       "    </tr>\n",
       "    <tr>\n",
       "      <th>3</th>\n",
       "      <td>4</td>\n",
       "      <td>70</td>\n",
       "      <td>RL</td>\n",
       "      <td>60.0</td>\n",
       "      <td>9550</td>\n",
       "      <td>Pave</td>\n",
       "      <td>NaN</td>\n",
       "      <td>IR1</td>\n",
       "      <td>Lvl</td>\n",
       "      <td>AllPub</td>\n",
       "      <td>...</td>\n",
       "      <td>0</td>\n",
       "      <td>NaN</td>\n",
       "      <td>NaN</td>\n",
       "      <td>NaN</td>\n",
       "      <td>0</td>\n",
       "      <td>2</td>\n",
       "      <td>2006</td>\n",
       "      <td>WD</td>\n",
       "      <td>Abnorml</td>\n",
       "      <td>140000</td>\n",
       "    </tr>\n",
       "    <tr>\n",
       "      <th>4</th>\n",
       "      <td>5</td>\n",
       "      <td>60</td>\n",
       "      <td>RL</td>\n",
       "      <td>84.0</td>\n",
       "      <td>14260</td>\n",
       "      <td>Pave</td>\n",
       "      <td>NaN</td>\n",
       "      <td>IR1</td>\n",
       "      <td>Lvl</td>\n",
       "      <td>AllPub</td>\n",
       "      <td>...</td>\n",
       "      <td>0</td>\n",
       "      <td>NaN</td>\n",
       "      <td>NaN</td>\n",
       "      <td>NaN</td>\n",
       "      <td>0</td>\n",
       "      <td>12</td>\n",
       "      <td>2008</td>\n",
       "      <td>WD</td>\n",
       "      <td>Normal</td>\n",
       "      <td>250000</td>\n",
       "    </tr>\n",
       "  </tbody>\n",
       "</table>\n",
       "<p>5 rows × 81 columns</p>\n",
       "</div>\n",
       "      <button class=\"colab-df-convert\" onclick=\"convertToInteractive('df-f53c766b-3df8-4b79-a5fb-09a14ea0e078')\"\n",
       "              title=\"Convert this dataframe to an interactive table.\"\n",
       "              style=\"display:none;\">\n",
       "        \n",
       "  <svg xmlns=\"http://www.w3.org/2000/svg\" height=\"24px\"viewBox=\"0 0 24 24\"\n",
       "       width=\"24px\">\n",
       "    <path d=\"M0 0h24v24H0V0z\" fill=\"none\"/>\n",
       "    <path d=\"M18.56 5.44l.94 2.06.94-2.06 2.06-.94-2.06-.94-.94-2.06-.94 2.06-2.06.94zm-11 1L8.5 8.5l.94-2.06 2.06-.94-2.06-.94L8.5 2.5l-.94 2.06-2.06.94zm10 10l.94 2.06.94-2.06 2.06-.94-2.06-.94-.94-2.06-.94 2.06-2.06.94z\"/><path d=\"M17.41 7.96l-1.37-1.37c-.4-.4-.92-.59-1.43-.59-.52 0-1.04.2-1.43.59L10.3 9.45l-7.72 7.72c-.78.78-.78 2.05 0 2.83L4 21.41c.39.39.9.59 1.41.59.51 0 1.02-.2 1.41-.59l7.78-7.78 2.81-2.81c.8-.78.8-2.07 0-2.86zM5.41 20L4 18.59l7.72-7.72 1.47 1.35L5.41 20z\"/>\n",
       "  </svg>\n",
       "      </button>\n",
       "      \n",
       "  <style>\n",
       "    .colab-df-container {\n",
       "      display:flex;\n",
       "      flex-wrap:wrap;\n",
       "      gap: 12px;\n",
       "    }\n",
       "\n",
       "    .colab-df-convert {\n",
       "      background-color: #E8F0FE;\n",
       "      border: none;\n",
       "      border-radius: 50%;\n",
       "      cursor: pointer;\n",
       "      display: none;\n",
       "      fill: #1967D2;\n",
       "      height: 32px;\n",
       "      padding: 0 0 0 0;\n",
       "      width: 32px;\n",
       "    }\n",
       "\n",
       "    .colab-df-convert:hover {\n",
       "      background-color: #E2EBFA;\n",
       "      box-shadow: 0px 1px 2px rgba(60, 64, 67, 0.3), 0px 1px 3px 1px rgba(60, 64, 67, 0.15);\n",
       "      fill: #174EA6;\n",
       "    }\n",
       "\n",
       "    [theme=dark] .colab-df-convert {\n",
       "      background-color: #3B4455;\n",
       "      fill: #D2E3FC;\n",
       "    }\n",
       "\n",
       "    [theme=dark] .colab-df-convert:hover {\n",
       "      background-color: #434B5C;\n",
       "      box-shadow: 0px 1px 3px 1px rgba(0, 0, 0, 0.15);\n",
       "      filter: drop-shadow(0px 1px 2px rgba(0, 0, 0, 0.3));\n",
       "      fill: #FFFFFF;\n",
       "    }\n",
       "  </style>\n",
       "\n",
       "      <script>\n",
       "        const buttonEl =\n",
       "          document.querySelector('#df-f53c766b-3df8-4b79-a5fb-09a14ea0e078 button.colab-df-convert');\n",
       "        buttonEl.style.display =\n",
       "          google.colab.kernel.accessAllowed ? 'block' : 'none';\n",
       "\n",
       "        async function convertToInteractive(key) {\n",
       "          const element = document.querySelector('#df-f53c766b-3df8-4b79-a5fb-09a14ea0e078');\n",
       "          const dataTable =\n",
       "            await google.colab.kernel.invokeFunction('convertToInteractive',\n",
       "                                                     [key], {});\n",
       "          if (!dataTable) return;\n",
       "\n",
       "          const docLinkHtml = 'Like what you see? Visit the ' +\n",
       "            '<a target=\"_blank\" href=https://colab.research.google.com/notebooks/data_table.ipynb>data table notebook</a>'\n",
       "            + ' to learn more about interactive tables.';\n",
       "          element.innerHTML = '';\n",
       "          dataTable['output_type'] = 'display_data';\n",
       "          await google.colab.output.renderOutput(dataTable, element);\n",
       "          const docLink = document.createElement('div');\n",
       "          docLink.innerHTML = docLinkHtml;\n",
       "          element.appendChild(docLink);\n",
       "        }\n",
       "      </script>\n",
       "    </div>\n",
       "  </div>\n",
       "  "
      ],
      "text/plain": [
       "   Id  MSSubClass MSZoning  LotFrontage  LotArea Street Alley LotShape  \\\n",
       "0   1          60       RL         65.0     8450   Pave   NaN      Reg   \n",
       "1   2          20       RL         80.0     9600   Pave   NaN      Reg   \n",
       "2   3          60       RL         68.0    11250   Pave   NaN      IR1   \n",
       "3   4          70       RL         60.0     9550   Pave   NaN      IR1   \n",
       "4   5          60       RL         84.0    14260   Pave   NaN      IR1   \n",
       "\n",
       "  LandContour Utilities  ... PoolArea PoolQC Fence MiscFeature MiscVal MoSold  \\\n",
       "0         Lvl    AllPub  ...        0    NaN   NaN         NaN       0      2   \n",
       "1         Lvl    AllPub  ...        0    NaN   NaN         NaN       0      5   \n",
       "2         Lvl    AllPub  ...        0    NaN   NaN         NaN       0      9   \n",
       "3         Lvl    AllPub  ...        0    NaN   NaN         NaN       0      2   \n",
       "4         Lvl    AllPub  ...        0    NaN   NaN         NaN       0     12   \n",
       "\n",
       "  YrSold  SaleType  SaleCondition  SalePrice  \n",
       "0   2008        WD         Normal     208500  \n",
       "1   2007        WD         Normal     181500  \n",
       "2   2008        WD         Normal     223500  \n",
       "3   2006        WD        Abnorml     140000  \n",
       "4   2008        WD         Normal     250000  \n",
       "\n",
       "[5 rows x 81 columns]"
      ]
     },
     "execution_count": 15,
     "metadata": {},
     "output_type": "execute_result"
    }
   ],
   "source": [
    "# Passo 1\n",
    "# Carrega os dados do dataset house-prices-advanced-regression empregando pandas (pd)\n",
    "# link: https://pandas.pydata.org/docs/reference/api/pandas.read_csv.html\n",
    "### COMENZAR O CODIGO AQUI ### \n",
    "train_data = pd.read_csv(\"./house/train.csv\") # ???\n",
    "### TERMINA AQUI ###\n",
    "\n",
    "train_data.head()"
   ]
  },
  {
   "cell_type": "code",
   "execution_count": null,
   "metadata": {
    "colab": {
     "base_uri": "https://localhost:8080/",
     "height": 300
    },
    "executionInfo": {
     "elapsed": 1005,
     "status": "ok",
     "timestamp": 1648665854977,
     "user": {
      "displayName": "Pedro Diamel Marrero Fernandez",
      "userId": "01657364546851549456"
     },
     "user_tz": 180
    },
    "id": "oLWnmeYKTrTp",
    "outputId": "6234c10e-e3de-4c69-df82-81735d24eb49"
   },
   "outputs": [
    {
     "data": {
      "text/html": [
       "\n",
       "  <div id=\"df-1a8bde87-1a99-4fa2-a6a3-168d43c5236b\">\n",
       "    <div class=\"colab-df-container\">\n",
       "      <div>\n",
       "<style scoped>\n",
       "    .dataframe tbody tr th:only-of-type {\n",
       "        vertical-align: middle;\n",
       "    }\n",
       "\n",
       "    .dataframe tbody tr th {\n",
       "        vertical-align: top;\n",
       "    }\n",
       "\n",
       "    .dataframe thead th {\n",
       "        text-align: right;\n",
       "    }\n",
       "</style>\n",
       "<table border=\"1\" class=\"dataframe\">\n",
       "  <thead>\n",
       "    <tr style=\"text-align: right;\">\n",
       "      <th></th>\n",
       "      <th>Id</th>\n",
       "      <th>MSSubClass</th>\n",
       "      <th>MSZoning</th>\n",
       "      <th>LotFrontage</th>\n",
       "      <th>LotArea</th>\n",
       "      <th>Street</th>\n",
       "      <th>Alley</th>\n",
       "      <th>LotShape</th>\n",
       "      <th>LandContour</th>\n",
       "      <th>Utilities</th>\n",
       "      <th>...</th>\n",
       "      <th>ScreenPorch</th>\n",
       "      <th>PoolArea</th>\n",
       "      <th>PoolQC</th>\n",
       "      <th>Fence</th>\n",
       "      <th>MiscFeature</th>\n",
       "      <th>MiscVal</th>\n",
       "      <th>MoSold</th>\n",
       "      <th>YrSold</th>\n",
       "      <th>SaleType</th>\n",
       "      <th>SaleCondition</th>\n",
       "    </tr>\n",
       "  </thead>\n",
       "  <tbody>\n",
       "    <tr>\n",
       "      <th>0</th>\n",
       "      <td>1461</td>\n",
       "      <td>20</td>\n",
       "      <td>RH</td>\n",
       "      <td>80.0</td>\n",
       "      <td>11622</td>\n",
       "      <td>Pave</td>\n",
       "      <td>NaN</td>\n",
       "      <td>Reg</td>\n",
       "      <td>Lvl</td>\n",
       "      <td>AllPub</td>\n",
       "      <td>...</td>\n",
       "      <td>120</td>\n",
       "      <td>0</td>\n",
       "      <td>NaN</td>\n",
       "      <td>MnPrv</td>\n",
       "      <td>NaN</td>\n",
       "      <td>0</td>\n",
       "      <td>6</td>\n",
       "      <td>2010</td>\n",
       "      <td>WD</td>\n",
       "      <td>Normal</td>\n",
       "    </tr>\n",
       "    <tr>\n",
       "      <th>1</th>\n",
       "      <td>1462</td>\n",
       "      <td>20</td>\n",
       "      <td>RL</td>\n",
       "      <td>81.0</td>\n",
       "      <td>14267</td>\n",
       "      <td>Pave</td>\n",
       "      <td>NaN</td>\n",
       "      <td>IR1</td>\n",
       "      <td>Lvl</td>\n",
       "      <td>AllPub</td>\n",
       "      <td>...</td>\n",
       "      <td>0</td>\n",
       "      <td>0</td>\n",
       "      <td>NaN</td>\n",
       "      <td>NaN</td>\n",
       "      <td>Gar2</td>\n",
       "      <td>12500</td>\n",
       "      <td>6</td>\n",
       "      <td>2010</td>\n",
       "      <td>WD</td>\n",
       "      <td>Normal</td>\n",
       "    </tr>\n",
       "    <tr>\n",
       "      <th>2</th>\n",
       "      <td>1463</td>\n",
       "      <td>60</td>\n",
       "      <td>RL</td>\n",
       "      <td>74.0</td>\n",
       "      <td>13830</td>\n",
       "      <td>Pave</td>\n",
       "      <td>NaN</td>\n",
       "      <td>IR1</td>\n",
       "      <td>Lvl</td>\n",
       "      <td>AllPub</td>\n",
       "      <td>...</td>\n",
       "      <td>0</td>\n",
       "      <td>0</td>\n",
       "      <td>NaN</td>\n",
       "      <td>MnPrv</td>\n",
       "      <td>NaN</td>\n",
       "      <td>0</td>\n",
       "      <td>3</td>\n",
       "      <td>2010</td>\n",
       "      <td>WD</td>\n",
       "      <td>Normal</td>\n",
       "    </tr>\n",
       "    <tr>\n",
       "      <th>3</th>\n",
       "      <td>1464</td>\n",
       "      <td>60</td>\n",
       "      <td>RL</td>\n",
       "      <td>78.0</td>\n",
       "      <td>9978</td>\n",
       "      <td>Pave</td>\n",
       "      <td>NaN</td>\n",
       "      <td>IR1</td>\n",
       "      <td>Lvl</td>\n",
       "      <td>AllPub</td>\n",
       "      <td>...</td>\n",
       "      <td>0</td>\n",
       "      <td>0</td>\n",
       "      <td>NaN</td>\n",
       "      <td>NaN</td>\n",
       "      <td>NaN</td>\n",
       "      <td>0</td>\n",
       "      <td>6</td>\n",
       "      <td>2010</td>\n",
       "      <td>WD</td>\n",
       "      <td>Normal</td>\n",
       "    </tr>\n",
       "    <tr>\n",
       "      <th>4</th>\n",
       "      <td>1465</td>\n",
       "      <td>120</td>\n",
       "      <td>RL</td>\n",
       "      <td>43.0</td>\n",
       "      <td>5005</td>\n",
       "      <td>Pave</td>\n",
       "      <td>NaN</td>\n",
       "      <td>IR1</td>\n",
       "      <td>HLS</td>\n",
       "      <td>AllPub</td>\n",
       "      <td>...</td>\n",
       "      <td>144</td>\n",
       "      <td>0</td>\n",
       "      <td>NaN</td>\n",
       "      <td>NaN</td>\n",
       "      <td>NaN</td>\n",
       "      <td>0</td>\n",
       "      <td>1</td>\n",
       "      <td>2010</td>\n",
       "      <td>WD</td>\n",
       "      <td>Normal</td>\n",
       "    </tr>\n",
       "  </tbody>\n",
       "</table>\n",
       "<p>5 rows × 80 columns</p>\n",
       "</div>\n",
       "      <button class=\"colab-df-convert\" onclick=\"convertToInteractive('df-1a8bde87-1a99-4fa2-a6a3-168d43c5236b')\"\n",
       "              title=\"Convert this dataframe to an interactive table.\"\n",
       "              style=\"display:none;\">\n",
       "        \n",
       "  <svg xmlns=\"http://www.w3.org/2000/svg\" height=\"24px\"viewBox=\"0 0 24 24\"\n",
       "       width=\"24px\">\n",
       "    <path d=\"M0 0h24v24H0V0z\" fill=\"none\"/>\n",
       "    <path d=\"M18.56 5.44l.94 2.06.94-2.06 2.06-.94-2.06-.94-.94-2.06-.94 2.06-2.06.94zm-11 1L8.5 8.5l.94-2.06 2.06-.94-2.06-.94L8.5 2.5l-.94 2.06-2.06.94zm10 10l.94 2.06.94-2.06 2.06-.94-2.06-.94-.94-2.06-.94 2.06-2.06.94z\"/><path d=\"M17.41 7.96l-1.37-1.37c-.4-.4-.92-.59-1.43-.59-.52 0-1.04.2-1.43.59L10.3 9.45l-7.72 7.72c-.78.78-.78 2.05 0 2.83L4 21.41c.39.39.9.59 1.41.59.51 0 1.02-.2 1.41-.59l7.78-7.78 2.81-2.81c.8-.78.8-2.07 0-2.86zM5.41 20L4 18.59l7.72-7.72 1.47 1.35L5.41 20z\"/>\n",
       "  </svg>\n",
       "      </button>\n",
       "      \n",
       "  <style>\n",
       "    .colab-df-container {\n",
       "      display:flex;\n",
       "      flex-wrap:wrap;\n",
       "      gap: 12px;\n",
       "    }\n",
       "\n",
       "    .colab-df-convert {\n",
       "      background-color: #E8F0FE;\n",
       "      border: none;\n",
       "      border-radius: 50%;\n",
       "      cursor: pointer;\n",
       "      display: none;\n",
       "      fill: #1967D2;\n",
       "      height: 32px;\n",
       "      padding: 0 0 0 0;\n",
       "      width: 32px;\n",
       "    }\n",
       "\n",
       "    .colab-df-convert:hover {\n",
       "      background-color: #E2EBFA;\n",
       "      box-shadow: 0px 1px 2px rgba(60, 64, 67, 0.3), 0px 1px 3px 1px rgba(60, 64, 67, 0.15);\n",
       "      fill: #174EA6;\n",
       "    }\n",
       "\n",
       "    [theme=dark] .colab-df-convert {\n",
       "      background-color: #3B4455;\n",
       "      fill: #D2E3FC;\n",
       "    }\n",
       "\n",
       "    [theme=dark] .colab-df-convert:hover {\n",
       "      background-color: #434B5C;\n",
       "      box-shadow: 0px 1px 3px 1px rgba(0, 0, 0, 0.15);\n",
       "      filter: drop-shadow(0px 1px 2px rgba(0, 0, 0, 0.3));\n",
       "      fill: #FFFFFF;\n",
       "    }\n",
       "  </style>\n",
       "\n",
       "      <script>\n",
       "        const buttonEl =\n",
       "          document.querySelector('#df-1a8bde87-1a99-4fa2-a6a3-168d43c5236b button.colab-df-convert');\n",
       "        buttonEl.style.display =\n",
       "          google.colab.kernel.accessAllowed ? 'block' : 'none';\n",
       "\n",
       "        async function convertToInteractive(key) {\n",
       "          const element = document.querySelector('#df-1a8bde87-1a99-4fa2-a6a3-168d43c5236b');\n",
       "          const dataTable =\n",
       "            await google.colab.kernel.invokeFunction('convertToInteractive',\n",
       "                                                     [key], {});\n",
       "          if (!dataTable) return;\n",
       "\n",
       "          const docLinkHtml = 'Like what you see? Visit the ' +\n",
       "            '<a target=\"_blank\" href=https://colab.research.google.com/notebooks/data_table.ipynb>data table notebook</a>'\n",
       "            + ' to learn more about interactive tables.';\n",
       "          element.innerHTML = '';\n",
       "          dataTable['output_type'] = 'display_data';\n",
       "          await google.colab.output.renderOutput(dataTable, element);\n",
       "          const docLink = document.createElement('div');\n",
       "          docLink.innerHTML = docLinkHtml;\n",
       "          element.appendChild(docLink);\n",
       "        }\n",
       "      </script>\n",
       "    </div>\n",
       "  </div>\n",
       "  "
      ],
      "text/plain": [
       "     Id  MSSubClass MSZoning  LotFrontage  LotArea Street Alley LotShape  \\\n",
       "0  1461          20       RH         80.0    11622   Pave   NaN      Reg   \n",
       "1  1462          20       RL         81.0    14267   Pave   NaN      IR1   \n",
       "2  1463          60       RL         74.0    13830   Pave   NaN      IR1   \n",
       "3  1464          60       RL         78.0     9978   Pave   NaN      IR1   \n",
       "4  1465         120       RL         43.0     5005   Pave   NaN      IR1   \n",
       "\n",
       "  LandContour Utilities  ... ScreenPorch PoolArea PoolQC  Fence MiscFeature  \\\n",
       "0         Lvl    AllPub  ...         120        0    NaN  MnPrv         NaN   \n",
       "1         Lvl    AllPub  ...           0        0    NaN    NaN        Gar2   \n",
       "2         Lvl    AllPub  ...           0        0    NaN  MnPrv         NaN   \n",
       "3         Lvl    AllPub  ...           0        0    NaN    NaN         NaN   \n",
       "4         HLS    AllPub  ...         144        0    NaN    NaN         NaN   \n",
       "\n",
       "  MiscVal MoSold  YrSold  SaleType  SaleCondition  \n",
       "0       0      6    2010        WD         Normal  \n",
       "1   12500      6    2010        WD         Normal  \n",
       "2       0      3    2010        WD         Normal  \n",
       "3       0      6    2010        WD         Normal  \n",
       "4       0      1    2010        WD         Normal  \n",
       "\n",
       "[5 rows x 80 columns]"
      ]
     },
     "execution_count": 16,
     "metadata": {},
     "output_type": "execute_result"
    }
   ],
   "source": [
    "# Explorando os dados de teste \n",
    "# Lembrando que os dados de teste de kaggle não possuem o atributo SalePrice (label para o problema de regressão)\n",
    "test_data = pd.read_csv(\"./house/test.csv\")\n",
    "test_data.head()"
   ]
  },
  {
   "cell_type": "code",
   "execution_count": null,
   "metadata": {
    "colab": {
     "base_uri": "https://localhost:8080/",
     "height": 206
    },
    "executionInfo": {
     "elapsed": 19,
     "status": "ok",
     "timestamp": 1648665854979,
     "user": {
      "displayName": "Pedro Diamel Marrero Fernandez",
      "userId": "01657364546851549456"
     },
     "user_tz": 180
    },
    "id": "fU1NGWJtUeFi",
    "outputId": "e65256cb-0cc1-4d43-969b-1cc61c328921"
   },
   "outputs": [
    {
     "data": {
      "text/html": [
       "\n",
       "  <div id=\"df-3ee35c91-3628-4082-af43-614d02934d55\">\n",
       "    <div class=\"colab-df-container\">\n",
       "      <div>\n",
       "<style scoped>\n",
       "    .dataframe tbody tr th:only-of-type {\n",
       "        vertical-align: middle;\n",
       "    }\n",
       "\n",
       "    .dataframe tbody tr th {\n",
       "        vertical-align: top;\n",
       "    }\n",
       "\n",
       "    .dataframe thead th {\n",
       "        text-align: right;\n",
       "    }\n",
       "</style>\n",
       "<table border=\"1\" class=\"dataframe\">\n",
       "  <thead>\n",
       "    <tr style=\"text-align: right;\">\n",
       "      <th></th>\n",
       "      <th>Id</th>\n",
       "      <th>SalePrice</th>\n",
       "    </tr>\n",
       "  </thead>\n",
       "  <tbody>\n",
       "    <tr>\n",
       "      <th>0</th>\n",
       "      <td>1461</td>\n",
       "      <td>169277.052498</td>\n",
       "    </tr>\n",
       "    <tr>\n",
       "      <th>1</th>\n",
       "      <td>1462</td>\n",
       "      <td>187758.393989</td>\n",
       "    </tr>\n",
       "    <tr>\n",
       "      <th>2</th>\n",
       "      <td>1463</td>\n",
       "      <td>183583.683570</td>\n",
       "    </tr>\n",
       "    <tr>\n",
       "      <th>3</th>\n",
       "      <td>1464</td>\n",
       "      <td>179317.477511</td>\n",
       "    </tr>\n",
       "    <tr>\n",
       "      <th>4</th>\n",
       "      <td>1465</td>\n",
       "      <td>150730.079977</td>\n",
       "    </tr>\n",
       "  </tbody>\n",
       "</table>\n",
       "</div>\n",
       "      <button class=\"colab-df-convert\" onclick=\"convertToInteractive('df-3ee35c91-3628-4082-af43-614d02934d55')\"\n",
       "              title=\"Convert this dataframe to an interactive table.\"\n",
       "              style=\"display:none;\">\n",
       "        \n",
       "  <svg xmlns=\"http://www.w3.org/2000/svg\" height=\"24px\"viewBox=\"0 0 24 24\"\n",
       "       width=\"24px\">\n",
       "    <path d=\"M0 0h24v24H0V0z\" fill=\"none\"/>\n",
       "    <path d=\"M18.56 5.44l.94 2.06.94-2.06 2.06-.94-2.06-.94-.94-2.06-.94 2.06-2.06.94zm-11 1L8.5 8.5l.94-2.06 2.06-.94-2.06-.94L8.5 2.5l-.94 2.06-2.06.94zm10 10l.94 2.06.94-2.06 2.06-.94-2.06-.94-.94-2.06-.94 2.06-2.06.94z\"/><path d=\"M17.41 7.96l-1.37-1.37c-.4-.4-.92-.59-1.43-.59-.52 0-1.04.2-1.43.59L10.3 9.45l-7.72 7.72c-.78.78-.78 2.05 0 2.83L4 21.41c.39.39.9.59 1.41.59.51 0 1.02-.2 1.41-.59l7.78-7.78 2.81-2.81c.8-.78.8-2.07 0-2.86zM5.41 20L4 18.59l7.72-7.72 1.47 1.35L5.41 20z\"/>\n",
       "  </svg>\n",
       "      </button>\n",
       "      \n",
       "  <style>\n",
       "    .colab-df-container {\n",
       "      display:flex;\n",
       "      flex-wrap:wrap;\n",
       "      gap: 12px;\n",
       "    }\n",
       "\n",
       "    .colab-df-convert {\n",
       "      background-color: #E8F0FE;\n",
       "      border: none;\n",
       "      border-radius: 50%;\n",
       "      cursor: pointer;\n",
       "      display: none;\n",
       "      fill: #1967D2;\n",
       "      height: 32px;\n",
       "      padding: 0 0 0 0;\n",
       "      width: 32px;\n",
       "    }\n",
       "\n",
       "    .colab-df-convert:hover {\n",
       "      background-color: #E2EBFA;\n",
       "      box-shadow: 0px 1px 2px rgba(60, 64, 67, 0.3), 0px 1px 3px 1px rgba(60, 64, 67, 0.15);\n",
       "      fill: #174EA6;\n",
       "    }\n",
       "\n",
       "    [theme=dark] .colab-df-convert {\n",
       "      background-color: #3B4455;\n",
       "      fill: #D2E3FC;\n",
       "    }\n",
       "\n",
       "    [theme=dark] .colab-df-convert:hover {\n",
       "      background-color: #434B5C;\n",
       "      box-shadow: 0px 1px 3px 1px rgba(0, 0, 0, 0.15);\n",
       "      filter: drop-shadow(0px 1px 2px rgba(0, 0, 0, 0.3));\n",
       "      fill: #FFFFFF;\n",
       "    }\n",
       "  </style>\n",
       "\n",
       "      <script>\n",
       "        const buttonEl =\n",
       "          document.querySelector('#df-3ee35c91-3628-4082-af43-614d02934d55 button.colab-df-convert');\n",
       "        buttonEl.style.display =\n",
       "          google.colab.kernel.accessAllowed ? 'block' : 'none';\n",
       "\n",
       "        async function convertToInteractive(key) {\n",
       "          const element = document.querySelector('#df-3ee35c91-3628-4082-af43-614d02934d55');\n",
       "          const dataTable =\n",
       "            await google.colab.kernel.invokeFunction('convertToInteractive',\n",
       "                                                     [key], {});\n",
       "          if (!dataTable) return;\n",
       "\n",
       "          const docLinkHtml = 'Like what you see? Visit the ' +\n",
       "            '<a target=\"_blank\" href=https://colab.research.google.com/notebooks/data_table.ipynb>data table notebook</a>'\n",
       "            + ' to learn more about interactive tables.';\n",
       "          element.innerHTML = '';\n",
       "          dataTable['output_type'] = 'display_data';\n",
       "          await google.colab.output.renderOutput(dataTable, element);\n",
       "          const docLink = document.createElement('div');\n",
       "          docLink.innerHTML = docLinkHtml;\n",
       "          element.appendChild(docLink);\n",
       "        }\n",
       "      </script>\n",
       "    </div>\n",
       "  </div>\n",
       "  "
      ],
      "text/plain": [
       "     Id      SalePrice\n",
       "0  1461  169277.052498\n",
       "1  1462  187758.393989\n",
       "2  1463  183583.683570\n",
       "3  1464  179317.477511\n",
       "4  1465  150730.079977"
      ]
     },
     "execution_count": 17,
     "metadata": {},
     "output_type": "execute_result"
    }
   ],
   "source": [
    "# Explorano os dados de submisão para kaggle\n",
    "submission = pd.read_csv('./house/sample_submission.csv')\n",
    "submission.head()"
   ]
  },
  {
   "cell_type": "markdown",
   "metadata": {
    "id": "PtaB68o_UpFh"
   },
   "source": [
    "### Descripção das caracteristicas\n",
    "---"
   ]
  },
  {
   "cell_type": "code",
   "execution_count": null,
   "metadata": {
    "id": "tIUGM67pUhSy"
   },
   "outputs": [],
   "source": [
    "train_data.columns"
   ]
  },
  {
   "cell_type": "markdown",
   "metadata": {
    "id": "vOOGt6NpVBIt"
   },
   "source": [
    "* **SalePrice** - o preço de venda da propriedade em dólares. Esta é a variável de destino que você está tentando prever.\n",
    "* **MSSubClass** : a classe de construção\n",
    "* **MSZoning** : A classificação geral de zoneamento\n",
    "* **LotFrontage** : metros lineares da rua conectada à propriedade\n",
    "* **LotArea** : tamanho do lote em pés quadrados\n",
    "* **Street** : Tipo de acesso rodoviário\n",
    "* **Alley** : Tipo de acesso ao beco\n",
    "* **LotShape** : forma geral da propriedade\n",
    "* **LandContour** : Nivelamento da propriedade\n",
    "* **Utilities** : tipos de utilitários disponíveis\n",
    "* **LotConfig** : configuração do lote\n",
    "* **LandSlope** : declive da propriedade\n",
    "* **Neighborhood** : localizações físicas dentro dos limites da cidade de Ames\n",
    "* **Condition1** : Proximidade com a estrada principal ou ferrovia\n",
    "* **Condition2** : Proximidade com a estrada principal ou ferrovia (se houver uma segunda)\n",
    "* **BldgType** : Tipo de habitação\n",
    "* ...\n",
    "\n",
    "https://www.kaggle.com/c/house-prices-advanced-regression-techniques/data "
   ]
  },
  {
   "cell_type": "code",
   "execution_count": null,
   "metadata": {
    "id": "C6IJfQCeW05w"
   },
   "outputs": [],
   "source": [
    "# Imprime informação das features presentes no conjunto de trenamento\n",
    "train_data.info()"
   ]
  },
  {
   "cell_type": "markdown",
   "metadata": {
    "id": "rXNod5v7V2Fq"
   },
   "source": [
    "### Dados faltantes (missing value)"
   ]
  },
  {
   "cell_type": "code",
   "execution_count": null,
   "metadata": {
    "id": "wCe9ryLSUsyD"
   },
   "outputs": [],
   "source": [
    "# Visualize os dados faltantes no conjunto de trenamento\n",
    "msno.matrix(train_data)\n",
    "plt.show()"
   ]
  },
  {
   "cell_type": "markdown",
   "metadata": {
    "id": "eHXFqhBoY_6A"
   },
   "source": [
    "### Análise da correlação entre as features"
   ]
  },
  {
   "cell_type": "code",
   "execution_count": null,
   "metadata": {
    "id": "-vUhHMDoV4_A"
   },
   "outputs": [],
   "source": [
    "# Passo 2\n",
    "# Seleção as feature {'SalePrice', 'GrLivArea', 'LotArea', 'GarageArea', \n",
    "# 'PoolArea', 'YearBuilt'} e visualize a matriz de correlação\n",
    "# link: https://pandas.pydata.org/docs/reference/api/pandas.DataFrame.corr.html?highlight=corr#pandas.DataFrame.corr\n",
    "\n",
    "### COMENZAR O CODIGO AQUI ### \n",
    "fearutes = ['SalePrice', 'GrLivArea', 'LotArea', 'GarageArea', 'PoolArea', 'YearBuilt'] # ???\n",
    "corrmat = train_data[fearutes].corr() # ???\n",
    "### TERMINA AQUI ###\n",
    "\n",
    "plt.figure(figsize=(8,8))\n",
    "sns.heatmap(corrmat, square=True, annot=True)\n",
    "plt.show()"
   ]
  },
  {
   "cell_type": "markdown",
   "metadata": {
    "id": "VtuNmUFSaBrz"
   },
   "source": [
    "### Análise da relação entre SalePrice e GrLivArea e seu comportamento com respeito ou tempo de construção (YearBuilt)"
   ]
  },
  {
   "cell_type": "code",
   "execution_count": null,
   "metadata": {
    "id": "O4bcMLZgaBzH"
   },
   "outputs": [],
   "source": [
    "plt.figure(figsize=(8,8))\n",
    "sns.scatterplot(data=train_data[fearutes], x=\"GrLivArea\", y=\"SalePrice\", hue=\"YearBuilt\")\n",
    "plt.show()"
   ]
  },
  {
   "cell_type": "markdown",
   "metadata": {
    "id": "ONCPM_PoyXQH"
   },
   "source": [
    "## Regressão linear"
   ]
  },
  {
   "cell_type": "markdown",
   "metadata": {
    "id": "r4eXTehAah9g"
   },
   "source": [
    "Neste ponto vamos fazer a implementação de nosso primeiro regresso linear baseado na equação normal. Pare isso empregaremos a seguinte formulação matemática: \n",
    "\n",
    "Função de custo:\n",
    "\n",
    "$$J(\\theta) = ||y-X\\theta||^2$$\n",
    "\n",
    "Problema de optimização:\n",
    "\n",
    "$$\\min_{\\theta} J(\\theta) $$\n",
    "\n",
    "Solução:\n",
    "\n",
    "$$\\theta = (X^TX)^{-1}X^Ty$$\n",
    "\n",
    "Predição empregando o modelo obtido $\\theta$:\n",
    "\n",
    "$$ \\hat{y} = h_{\\theta}(x) = \\theta_0 + \\theta_1x $$"
   ]
  },
  {
   "cell_type": "code",
   "execution_count": null,
   "metadata": {
    "id": "FP1KWEIzaiEG"
   },
   "outputs": [],
   "source": [
    "\n",
    "class NormalEquationRegression():\n",
    "  def __init__(self):\n",
    "    self.theta = [0, 0]\n",
    "  def fit(self, x, y):\n",
    "    # Add 1 na frente x = [1 x]\n",
    "    x = np.hstack((np.ones((x.shape[0],1)), x))\n",
    "    # Passo 3\n",
    "    # Implemente a estimação do parâmetro \\theta baseado na solução da Ecuação \n",
    "    # Normal\n",
    "    # \\theta = (X^TX)^{-1}X^Ty\n",
    "    ### COMENZAR O CODIGO AQUI ### \n",
    "    self.theta = (np.linalg.pinv(x.T@x)@x.T)@y # ???\n",
    "    ### TERMINA AQUI ###\n",
    "\n",
    "  def predict(self, x):\n",
    "    # Passo 4\n",
    "    # Faça a predição empregando o modelo obtido \\theta\n",
    "    ### COMENZAR O CODIGO AQUI ###\n",
    "    y_hat = x*self.theta[1] + self.theta[0] # ???\n",
    "    ### TERMINA AQUI ###\n",
    "    return y_hat\n"
   ]
  },
  {
   "cell_type": "code",
   "execution_count": null,
   "metadata": {
    "id": "qO9linzzAlXm"
   },
   "outputs": [],
   "source": [
    "from sklearn.model_selection import train_test_split\n",
    "from sklearn.metrics import mean_squared_error, r2_score\n",
    "\n",
    "# Seleção da feature a ser estimada\n",
    "# Lembrem-se que queremos predecir o valor das casas\n",
    "y = train_data[\"SalePrice\"]\n",
    "\n",
    "# Selecção das features\n",
    "# Neste caso estamos trabalhando com uma única variável. Recomendamos empregar a \n",
    "# feature GrLivArea para fazer a sua predição. \n",
    "features = [\"GrLivArea\"]\n",
    "X = pd.get_dummies(train_data[features])\n",
    "X_test = pd.get_dummies(test_data[features])\n",
    "\n",
    "# Divisão do conjunto em treinamento e validação\n",
    "# Seleccione o procentagem para o conjunto de validação\n",
    "tamanho_val = 0.3\n",
    "X_train, X_val, y_train, y_val = train_test_split(X,y, test_size=tamanho_val, shuffle=True, random_state=0)\n",
    "\n",
    "# Criação dos modelos de regressão linear\n",
    "# Passo 5\n",
    "# Cree uma instância da classe NormalEquationRegression\n",
    "### COMENZAR O CODIGO AQUI ###\n",
    "model = NormalEquationRegression()\n",
    "### TERMINA AQUI ###\n",
    "\n",
    "# Treinamento do modelo de regressão linear\n",
    "# Passo 6\n",
    "# Empregando a função fit treine o modelo regressão linear\n",
    "### COMENZAR O CODIGO AQUI ###\n",
    "model.fit(X_train, y_train) # ???\n",
    "### TERMINA AQUI ###\n",
    "\n",
    "# Imprimir os valores do modelo \\theta\n",
    "print(\"Theta: \", model.theta)\n",
    "\n",
    "# Predição no conjunto de validação\n",
    "preditions_val = model.predict(X_val)\n",
    "\n",
    "# Avaliação dos resultados\n",
    "# The mean squared error\n",
    "print(\"RMSE: {0}\".format(mean_squared_error(y_val, preditions_val, squared=False)))\n",
    "# Explained variance score: 1 is perfect prediction\n",
    "print('Variance score: %.2f' % r2_score(y_val, preditions_val))"
   ]
  },
  {
   "cell_type": "code",
   "execution_count": null,
   "metadata": {
    "id": "UEgn7uAHHeSE"
   },
   "outputs": [],
   "source": [
    "print('y = {0} + {1} X'.format(model.theta[0], model.theta[1]))"
   ]
  },
  {
   "cell_type": "code",
   "execution_count": null,
   "metadata": {
    "id": "ZijOvEUJBa-T"
   },
   "outputs": [],
   "source": [
    "# Visualização dos resultados obtidos\n",
    "x_axis = np.arange(0, 5000, 10)\n",
    "f_x = model.theta[0] + model.theta[1] * x_axis\n",
    "\n",
    "plt.figure(figsize=(12, 9))\n",
    "plt.scatter(X_train, y_train,  color='blue')\n",
    "plt.plot(x_axis, f_x,  color='red')\n",
    "plt.show()"
   ]
  },
  {
   "cell_type": "markdown",
   "metadata": {
    "id": "Zwoa7UiLQXZI"
   },
   "source": [
    "## Regressão empregando gradiente descendente (GD)\n",
    "\n",
    "Agora vamos fazer uma implementação de um regresso linear baseado no descenso do gradiente. Pare isso empregaremos a seguinte formulação matemática:\n",
    "\n",
    "Função de custo:\n",
    "\n",
    "$$J(\\theta) = \\frac{1}{2m} \\sum_{i=1}^m ( h_{\\theta}(x^i) - y^i )^2 $$\n",
    "\n",
    "Problema de optimização:\n",
    "\n",
    "$$\\min_{\\theta} J(\\theta) $$\n",
    "\n",
    "Solução:\n",
    "\n",
    "$$\\theta^{t} = \\theta^{t-1} - \\alpha  \\frac{\\partial}{\\partial \\theta} J  $$\n",
    "onde\n",
    "$$ \\frac{\\partial}{\\partial \\theta} J =  \\frac{1}{m} \\sum_{i=1}^m ( h_{\\theta}(x^i) - y^i )x^i$$\n",
    "\n",
    "Predição empregando o modelo obtido $\\theta$:\n",
    "\n",
    "$$ \\hat{y} = h_{\\theta}(x) = \\theta_0 + \\theta_1x $$"
   ]
  },
  {
   "cell_type": "code",
   "execution_count": null,
   "metadata": {
    "id": "LQoXNjwhKA43"
   },
   "outputs": [],
   "source": [
    "class GDRegression():\n",
    "  def __init__(self):\n",
    "    self.theta = [0, 0]\n",
    "    self.num_iter = 10000\n",
    "    self.alpha = 0.001\n",
    "    self.J = []\n",
    "\n",
    "  def fit(self, x, y):\n",
    "\n",
    "    x = np.hstack( (np.ones((x.shape[0],1)), x) )\n",
    "    y = y.to_numpy()[:,np.newaxis]\n",
    "    m = len(y)\n",
    "    self.theta = np.zeros((2,1))\n",
    "\n",
    "    J = (1/(2*m))*np.sum( (x@self.theta-y)**2 )\n",
    "    print(J)\n",
    "\n",
    "    J_hist = []\n",
    "    theta = self.theta\n",
    "    for i in range(self.num_iter):\n",
    "      \n",
    "      h = x@theta\n",
    "\n",
    "      # Passo 7:\n",
    "      # Seleções qual das seguintes opções são correta e complete o código\n",
    "      # a) theta = theta - (self.alpha*(1/m)*np.sum((np.tile(h-y,(1,2)))*x, axis=0)[:, np.newaxis])\n",
    "      # b) theta[0] = theta[0] - self.alpha*(1/m)*sum((h-y)*x[:,0][:,np.newaxis])\n",
    "      #    theta[1] = theta[1] - self.alpha*(1/m)*sum((h-y)*x[:,1][:,np.newaxis])\n",
    "      #\n",
    "      ### COMENZAR O CODIGO AQUI ###\n",
    "      theta = theta - (self.alpha*(1/m)*np.sum((np.tile(h-y,(1,2)))*x, axis=0)[:, np.newaxis]) # ???      \n",
    "      #theta[0] = theta[0] - self.alpha*(1/m)*sum((h-y)*x[:,0][:,np.newaxis])\n",
    "      #theta[1] = theta[1] - self.alpha*(1/m)*sum((h-y)*x[:,1][:,np.newaxis])\n",
    "      ### TERMINA AQUI ###\n",
    " \n",
    "      J = (1/(2*m))*np.sum( (x@theta-y)**2 )\n",
    "      \n",
    "      if i % 1000 == 0: \n",
    "        print(J)\n",
    "\n",
    "      J_hist.append(J)\n",
    "\n",
    "    self.theta = theta\n",
    "    self.J = J_hist\n",
    "\n",
    "  def predict(self, x):\n",
    "    # Passo 8\n",
    "    # Faça a predição empregando o modelo obtido \\theta\n",
    "    ### COMENZAR O CODIGO AQUI ###\n",
    "    y_hat = x*self.theta[1] + self.theta[0] # ???\n",
    "    ### TERMINA AQUI ###\n",
    "    return y_hat"
   ]
  },
  {
   "cell_type": "code",
   "execution_count": null,
   "metadata": {
    "id": "2MbmPaMRKA7r"
   },
   "outputs": [],
   "source": [
    "from sklearn.model_selection import train_test_split\n",
    "from sklearn.metrics import mean_squared_error, r2_score\n",
    "\n",
    "# Seleção da feature a ser estimada\n",
    "# Lembrem-se que queremos predecir o valor das casas\n",
    "y = train_data[\"SalePrice\"]\n",
    "\n",
    "# Selecção das features\n",
    "# Neste caso estamos trabalhando com uma única variável. Recomendamos empregar a \n",
    "# feature GrLivArea para fazer a sua predição. \n",
    "features = [\"GrLivArea\"]\n",
    "X = pd.get_dummies(train_data[features])\n",
    "X_test = pd.get_dummies(test_data[features])\n",
    "\n",
    "# Escale os valores da feature selecionada \n",
    "X = (X - X.mean(axis=0)) / X.std(axis=0)\n",
    "\n",
    "# Divisão do conjunto em treinamento e validação\n",
    "# Seleccione o procentagem para o conjunto de validação\n",
    "tamanho_val = 0.3\n",
    "X_train, X_val, y_train, y_val = train_test_split(X,y, test_size=tamanho_val, shuffle=True, random_state=0)\n",
    "\n",
    "# Criação dos modelos de regressão linear\n",
    "model = GDRegression()\n",
    "\n",
    "# Treinamento do modelo de regressão linear\n",
    "model.fit(X_train, y_train)\n",
    "\n",
    "# Imprimir os valores do modelo \\theta\n",
    "print(\"Theta: \", model.theta)\n",
    "\n",
    "# Predição no conjunto de validação\n",
    "preditions_val = model.predict(X_val)\n",
    "\n",
    "# Avaliação dos resultados\n",
    "# The mean squared error\n",
    "print(\"RMSE: {0}\".format(mean_squared_error(y_val, preditions_val, squared=False)))\n",
    "# Explained variance score: 1 is perfect prediction\n",
    "print('Variance score: %.2f' % r2_score(y_val, preditions_val))"
   ]
  },
  {
   "cell_type": "code",
   "execution_count": null,
   "metadata": {
    "id": "3ls0NZY8X3Gr"
   },
   "outputs": [],
   "source": [
    "print('y = {0} + {1} X'.format(model.theta[0], model.theta[1]))"
   ]
  },
  {
   "cell_type": "code",
   "execution_count": null,
   "metadata": {
    "id": "GA-cZWyLL9o6"
   },
   "outputs": [],
   "source": [
    "# Visualização da função de custo\n",
    "plt.plot(model.J)\n",
    "plt.plot()"
   ]
  },
  {
   "cell_type": "code",
   "execution_count": null,
   "metadata": {
    "id": "MTDp_H4zL9rv"
   },
   "outputs": [],
   "source": [
    "# Visualização dos resultados obtidos\n",
    "x_axis = np.arange(-4.0, 10, 0.10)\n",
    "f_x = model.theta[0] + model.theta[1] * x_axis\n",
    "\n",
    "x = X_train.to_numpy()\n",
    "\n",
    "plt.figure(figsize=(12, 9))\n",
    "plt.scatter(x, y_train,  color='blue')\n",
    "plt.plot(x_axis, f_x,  color='red')\n",
    "plt.show()"
   ]
  },
  {
   "cell_type": "markdown",
   "metadata": {
    "id": "eAvMz3Ea9N8D"
   },
   "source": [
    "## Agora vamos empregar os métodos de regressão linear da sklearn"
   ]
  },
  {
   "cell_type": "code",
   "execution_count": null,
   "metadata": {
    "colab": {
     "base_uri": "https://localhost:8080/"
    },
    "executionInfo": {
     "elapsed": 417,
     "status": "ok",
     "timestamp": 1648665867998,
     "user": {
      "displayName": "Pedro Diamel Marrero Fernandez",
      "userId": "01657364546851549456"
     },
     "user_tz": 180
    },
    "id": "g_GLiy--Gb47",
    "outputId": "04d62d03-7c50-467c-81c4-b114c8aa6737"
   },
   "outputs": [
    {
     "name": "stdout",
     "output_type": "stream",
     "text": [
      "RMSE: 61061.102118698866\n",
      "Variance score: 0.45\n"
     ]
    }
   ],
   "source": [
    "from sklearn.model_selection import train_test_split\n",
    "from sklearn.metrics import mean_squared_error, r2_score\n",
    "from sklearn.linear_model import LinearRegression\n",
    "\n",
    "# Seleção da feature a ser estimada\n",
    "# Lembrem-se que queremos predecir o valor das casas\n",
    "y = train_data[\"SalePrice\"]\n",
    "\n",
    "# Selecção das features\n",
    "# Neste caso estamos trabalhando com uma única variável. Recomendamos empregar a \n",
    "# feature GrLivArea para fazer a sua predição.\n",
    "features = [\"GrLivArea\"]\n",
    "X = pd.get_dummies(train_data[features])\n",
    "X_test = pd.get_dummies(test_data[features])\n",
    "\n",
    "# Divisão do conjunto em treinamento e validação\n",
    "# Seleccione o procentagem para o conjunto de validação\n",
    "tamanho_val = 0.3\n",
    "X_train, X_val, y_train, y_val = train_test_split(X,y, test_size=0.30, shuffle=True, random_state=0)\n",
    "\n",
    "# Criação dos modelos de regressão linear\n",
    "# Passo 9\n",
    "# Cree uma instância da classe LinearRegression\n",
    "# https://scikit-learn.org/stable/modules/generated/sklearn.linear_model.LinearRegression.html\n",
    "### COMENZAR O CODIGO AQUI ###\n",
    "model = LinearRegression() # ???\n",
    "### TERMINA AQUI ###\n",
    "\n",
    "# Treinamento do modelo de regressão linear\n",
    "# Passo 10\n",
    "# Empregando a função fit treine o modelo regressão linear\n",
    "### COMENZAR O CODIGO AQUI ###\n",
    "model.fit(X_train, y_train) # ???\n",
    "### TERMINA AQUI ###\n",
    "\n",
    "# Predição no conjunto de validação\n",
    "preditions_val = model.predict(X_val)\n",
    "\n",
    "# Avaliação dos resultados\n",
    "# The mean squared error\n",
    "print(\"RMSE: {0}\".format(mean_squared_error(y_val, preditions_val, squared=False)))\n",
    "# Explained variance score: 1 is perfect prediction\n",
    "print('Variance score: %.2f' % r2_score(y_val, preditions_val))\n"
   ]
  },
  {
   "cell_type": "code",
   "execution_count": null,
   "metadata": {
    "colab": {
     "base_uri": "https://localhost:8080/"
    },
    "executionInfo": {
     "elapsed": 2,
     "status": "ok",
     "timestamp": 1648665868460,
     "user": {
      "displayName": "Pedro Diamel Marrero Fernandez",
      "userId": "01657364546851549456"
     },
     "user_tz": 180
    },
    "id": "PcWhz6KeHSTy",
    "outputId": "ffd74a0e-205a-4a0b-98bd-234902e185da"
   },
   "outputs": [
    {
     "name": "stdout",
     "output_type": "stream",
     "text": [
      "y = 13998.441163741954 + 109.44329072279999 X\n"
     ]
    }
   ],
   "source": [
    "print('y = {0} + {1} X'.format(model.intercept_, model.coef_[0]))"
   ]
  },
  {
   "cell_type": "code",
   "execution_count": null,
   "metadata": {
    "colab": {
     "base_uri": "https://localhost:8080/",
     "height": 540
    },
    "executionInfo": {
     "elapsed": 1101,
     "status": "ok",
     "timestamp": 1648665871708,
     "user": {
      "displayName": "Pedro Diamel Marrero Fernandez",
      "userId": "01657364546851549456"
     },
     "user_tz": 180
    },
    "id": "tur0tuvEICEC",
    "outputId": "0125a7e2-c5ab-4ed9-bd7a-04038423e824"
   },
   "outputs": [
    {
     "data": {
      "image/png": "[encoded data removed]",
      "text/plain": [
       "<Figure size 864x648 with 1 Axes>"
      ]
     },
     "metadata": {},
     "output_type": "display_data"
    }
   ],
   "source": [
    "# Visualização dos resultados obtidos\n",
    "x_axis = np.arange(0, 5000, 10)\n",
    "f_x = model.intercept_ + model.coef_[0] * x_axis\n",
    "\n",
    "plt.figure(figsize=(12, 9))\n",
    "plt.scatter(X_train, y_train,  color='blue')\n",
    "plt.plot(x_axis, f_x,  color='red')\n",
    "plt.show()"
   ]
  },
  {
   "cell_type": "markdown",
   "metadata": {
    "id": "bX4Vj8hH_udw"
   },
   "source": [
    "## Bora a melhor o resultados\n",
    "Voce pode modificar o passo 9 para tentar melhorar :)\n",
    "* Tenta empregar o método de regressão da sklearn como SGDRegressor \n",
    "https://scikit-learn.org/stable/modules/generated/sklearn.linear_model.SGDRegressor.html \n",
    "* Tenta empregar alguma outra feature (Que análisis de dados poderia fornecer algum insight para melhorar o regressor)\n",
    " \n",
    " "
   ]
  },
  {
   "cell_type": "markdown",
   "metadata": {
    "id": "b_GP-w5d9eu4"
   },
   "source": [
    "## Submeter teu resultado em Kaggle\n",
    "Apresentar seu resultado na plataforma kaggle é muito fácil, você pode gerar um arquivo .csv e submeter no kaggle. Esperamos que você continue trabalhando para melhorar seu resultado no leaderboard e compartilhe com todos nós. Ficaremos muito feliz :D!!!"
   ]
  },
  {
   "cell_type": "code",
   "execution_count": null,
   "metadata": {
    "id": "OUytiaap9eBr"
   },
   "outputs": [],
   "source": [
    "# Submission\n",
    "predictions = model.predict(X_test)\n",
    "output = pd.DataFrame({'Id': test_data[\"Id\"], 'SalePrice': predictions })\n",
    "output.to_csv('submission.csv', index=False)\n",
    "print(\"Your submission was successfully saved!\")"
   ]
  },
  {
   "cell_type": "markdown",
   "metadata": {
    "id": "DzZkEadw9eQl"
   },
   "source": [
    "## Bora empregar um dos melhores frameworks de deep learning !!!\n",
    "Implementando Regressão Linear em [PyTorch](https://pytorch.org/)\n"
   ]
  },
  {
   "cell_type": "code",
   "execution_count": null,
   "metadata": {
    "colab": {
     "base_uri": "https://localhost:8080/"
    },
    "executionInfo": {
     "elapsed": 292,
     "status": "ok",
     "timestamp": 1648666545161,
     "user": {
      "displayName": "Pedro Diamel Marrero Fernandez",
      "userId": "01657364546851549456"
     },
     "user_tz": 180
    },
    "id": "s-rP2SgDDvaJ",
    "outputId": "6ef96649-a7a3-435c-c9bd-341a4596ecde"
   },
   "outputs": [
    {
     "name": "stdout",
     "output_type": "stream",
     "text": [
      "1.10.0+cu111\n",
      "True\n"
     ]
    }
   ],
   "source": [
    "import torch\n",
    "print(torch.__version__)\n",
    "print(torch.cuda.is_available())"
   ]
  },
  {
   "cell_type": "code",
   "execution_count": null,
   "metadata": {
    "colab": {
     "base_uri": "https://localhost:8080/"
    },
    "executionInfo": {
     "elapsed": 300,
     "status": "ok",
     "timestamp": 1648665880615,
     "user": {
      "displayName": "Pedro Diamel Marrero Fernandez",
      "userId": "01657364546851549456"
     },
     "user_tz": 180
    },
    "id": "VLZduaH2D34T",
    "outputId": "3f707911-2c58-4d3f-fa7c-e6564b331be7"
   },
   "outputs": [
    {
     "name": "stdout",
     "output_type": "stream",
     "text": [
      "<class 'torch.Tensor'> torch.Size([1022, 1])\n"
     ]
    }
   ],
   "source": [
    "# Numpy to pytorch\n",
    "# https://pytorch.org/docs/stable/generated/torch.from_numpy.html \n",
    "X_train_tensor = torch.from_numpy(X_train.to_numpy()).float()\n",
    "y_train_tensor = torch.from_numpy(y_train.to_numpy()).float()\n",
    "X_val_tensor   = torch.from_numpy(X_val.to_numpy()).float()\n",
    "y_val_tensor   = torch.from_numpy(y_val.to_numpy()).float()\n",
    "X_test_tensor  = torch.from_numpy(X_test.to_numpy()).float()\n",
    "\n",
    "print(X_train_tensor.__class__, X_train_tensor.shape)"
   ]
  },
  {
   "cell_type": "code",
   "execution_count": null,
   "metadata": {
    "colab": {
     "base_uri": "https://localhost:8080/"
    },
    "executionInfo": {
     "elapsed": 8,
     "status": "ok",
     "timestamp": 1648665881516,
     "user": {
      "displayName": "Pedro Diamel Marrero Fernandez",
      "userId": "01657364546851549456"
     },
     "user_tz": 180
    },
    "id": "kSLCqGq5LH3n",
    "outputId": "c5d0ed91-63f4-49a5-c999-197cae63defc"
   },
   "outputs": [
    {
     "name": "stdout",
     "output_type": "stream",
     "text": [
      "tensor(0.) tensor(1.)\n"
     ]
    }
   ],
   "source": [
    "# Scalando a entrada \n",
    "def norm_scaling(x):\n",
    "  return (x - x.min()) / (x.max() - x.min())\n",
    "\n",
    "X_train_tensor  = norm_scaling(X_train_tensor)\n",
    "X_val_tensor    = norm_scaling(X_val_tensor)\n",
    "X_test_tensor   = norm_scaling(X_test_tensor)\n",
    "\n",
    "print(X_train_tensor.min(), X_train_tensor.max())"
   ]
  },
  {
   "cell_type": "markdown",
   "metadata": {
    "id": "3AIlYhXnGigX"
   },
   "source": [
    "### Definição de um modelo linal em pytorch (modelo de neurônio)\n",
    "$$ \\hat{y} = h_{\\theta}(x) = \\theta_0 + \\theta_1x = X\\Theta$$"
   ]
  },
  {
   "cell_type": "code",
   "execution_count": null,
   "metadata": {
    "colab": {
     "base_uri": "https://localhost:8080/"
    },
    "executionInfo": {
     "elapsed": 437,
     "status": "ok",
     "timestamp": 1648665884038,
     "user": {
      "displayName": "Pedro Diamel Marrero Fernandez",
      "userId": "01657364546851549456"
     },
     "user_tz": 180
    },
    "id": "4Ldkrva-FWC1",
    "outputId": "2d2beb2b-94bf-4db6-ea87-823acd84e10d"
   },
   "outputs": [
    {
     "data": {
      "text/plain": [
       "Sequential(\n",
       "  (0): Linear(in_features=1, out_features=1, bias=True)\n",
       "  (1): Flatten(start_dim=0, end_dim=1)\n",
       ")"
      ]
     },
     "execution_count": 24,
     "metadata": {},
     "output_type": "execute_result"
    }
   ],
   "source": [
    "model = torch.nn.Sequential(\n",
    "    # https://pytorch.org/docs/stable/generated/torch.nn.Linear.html\n",
    "    torch.nn.Linear(1, 1), # Linear layes ->  X*\\Theta\n",
    "    torch.nn.Flatten(0, 1) # Reduce a dimenção da saida shape [N,]\n",
    ")\n",
    "model"
   ]
  },
  {
   "cell_type": "markdown",
   "metadata": {
    "id": "Qjewpa8_GYQ4"
   },
   "source": [
    "### Função de custo tambem conhosida como MSE:\n",
    "\n",
    "$$J(\\theta) = \\frac{1}{2m} \\sum_{i=1}^m ( h_{\\theta}(x^i) - y^i )^2 $$"
   ]
  },
  {
   "cell_type": "code",
   "execution_count": null,
   "metadata": {
    "id": "b2HopP74GJXY"
   },
   "outputs": [],
   "source": [
    "# Empregamos a função MSE de pytorch\n",
    "# https://pytorch.org/docs/stable/generated/torch.nn.MSELoss.html\n",
    "Jmse = torch.nn.MSELoss(reduction='mean')"
   ]
  },
  {
   "cell_type": "markdown",
   "metadata": {
    "id": "5-7A84IrHbip"
   },
   "source": [
    "### Trenamento do modelo\n",
    "\n",
    "Problema de optimização:\n",
    "\n",
    "$$\\min_{\\theta} J(\\theta) $$\n",
    "\n",
    "Solução:\n",
    "\n",
    "$$\\theta^{t} = \\theta^{t-1} - \\alpha  \\frac{\\partial}{\\partial \\theta} J  $$\n",
    "onde\n",
    "$$ \\frac{\\partial}{\\partial \\theta} J =  \\frac{1}{m} \\sum_{i=1}^m ( h_{\\theta}(x^i) - y^i )x^i$$"
   ]
  },
  {
   "cell_type": "code",
   "execution_count": null,
   "metadata": {
    "colab": {
     "base_uri": "https://localhost:8080/"
    },
    "executionInfo": {
     "elapsed": 108948,
     "status": "ok",
     "timestamp": 1648666093649,
     "user": {
      "displayName": "Pedro Diamel Marrero Fernandez",
      "userId": "01657364546851549456"
     },
     "user_tz": 180
    },
    "id": "qY-uQiMKHS89",
    "outputId": "a43b40c2-c188-4229-dc11-9332fa9e654f"
   },
   "outputs": [
    {
     "name": "stdout",
     "output_type": "stream",
     "text": [
      "0 38711349248.0\n",
      "10000 4429231104.0\n",
      "20000 3798132224.0\n",
      "30000 3426011136.0\n",
      "40000 3206596608.0\n",
      "50000 3077220608.0\n",
      "60000 3000938752.0\n",
      "70000 2955960320.0\n",
      "80000 2929436672.0\n",
      "90000 2913794304.0\n"
     ]
    }
   ],
   "source": [
    "learning_rate = 1e-3\n",
    "iter_num = 100000\n",
    "\n",
    "J_hist = []\n",
    "for t in range(iter_num):\n",
    "\n",
    "  y_pred = model(X_train_tensor)\n",
    "  J = Jmse(y_pred, y_train_tensor)\n",
    "  \n",
    "  J_hist.append(J.item())\n",
    "  if t % 10000 == 0:\n",
    "    print(t, J.item())\n",
    "\n",
    "  model.zero_grad()\n",
    "  J.backward() # calculo da derivada\n",
    "\n",
    "  with torch.no_grad():\n",
    "    for theta in model.parameters():\n",
    "      theta -= learning_rate * theta.grad # atualização dos pesos \\theta\n"
   ]
  },
  {
   "cell_type": "code",
   "execution_count": null,
   "metadata": {
    "colab": {
     "base_uri": "https://localhost:8080/",
     "height": 296
    },
    "executionInfo": {
     "elapsed": 807,
     "status": "ok",
     "timestamp": 1648666098169,
     "user": {
      "displayName": "Pedro Diamel Marrero Fernandez",
      "userId": "01657364546851549456"
     },
     "user_tz": 180
    },
    "id": "daxc6QldNY2u",
    "outputId": "ea58d6ee-b061-4567-d599-3270466ec99c"
   },
   "outputs": [
    {
     "data": {
      "text/plain": [
       "[]"
      ]
     },
     "execution_count": 32,
     "metadata": {},
     "output_type": "execute_result"
    },
    {
     "data": {
      "image/png": "[encoded data removed]",
      "text/plain": [
       "<Figure size 1080x288 with 1 Axes>"
      ]
     },
     "metadata": {},
     "output_type": "display_data"
    }
   ],
   "source": [
    "# Visualização da função de custo\n",
    "plt.plot(J_hist)\n",
    "plt.plot()"
   ]
  },
  {
   "cell_type": "code",
   "execution_count": null,
   "metadata": {
    "colab": {
     "base_uri": "https://localhost:8080/"
    },
    "executionInfo": {
     "elapsed": 517,
     "status": "ok",
     "timestamp": 1648666104298,
     "user": {
      "displayName": "Pedro Diamel Marrero Fernandez",
      "userId": "01657364546851549456"
     },
     "user_tz": 180
    },
    "id": "f7Y9RSfuOgsg",
    "outputId": "5118c193-c389-4650-8684-75df7d98b0ec"
   },
   "outputs": [
    {
     "name": "stdout",
     "output_type": "stream",
     "text": [
      "y = 59021.5234375 + 444663.09375 X\n"
     ]
    }
   ],
   "source": [
    "linear_layer = model[0] # X\\Theta\n",
    "print('y = {0} + {1} X'.format(linear_layer.bias.item(), linear_layer.weight[:, 0].item()))"
   ]
  },
  {
   "cell_type": "code",
   "execution_count": null,
   "metadata": {
    "colab": {
     "base_uri": "https://localhost:8080/",
     "height": 540
    },
    "executionInfo": {
     "elapsed": 964,
     "status": "ok",
     "timestamp": 1648666106920,
     "user": {
      "displayName": "Pedro Diamel Marrero Fernandez",
      "userId": "01657364546851549456"
     },
     "user_tz": 180
    },
    "id": "I4-fPB8tOkgX",
    "outputId": "70c2ef1b-b76d-4bae-b234-cac6e4b3b55f"
   },
   "outputs": [
    {
     "data": {
      "image/png": "[encoded data removed]",
      "text/plain": [
       "<Figure size 864x648 with 1 Axes>"
      ]
     },
     "metadata": {},
     "output_type": "display_data"
    }
   ],
   "source": [
    "# Visualização dos resultados obtidos\n",
    "x_axis = np.arange(0.0, 1.0, 0.001)\n",
    "f_x = linear_layer.bias.item() + linear_layer.weight[:, 0].item() * x_axis\n",
    "\n",
    "plt.figure(figsize=(12, 9))\n",
    "plt.scatter(X_train_tensor, y_train,  color='blue')\n",
    "plt.plot(x_axis, f_x,  color='red')\n",
    "plt.show()"
   ]
  }
 ],
 "metadata": {
  "colab": {
   "collapsed_sections": [],
   "name": "Aula 03 - Aprendizado Preditivo - Regressão - Solution.ipynb",
   "provenance": [
    {
     "file_id": "1UWNPg3nIg_wRzX1eOKPTA_ox8qO9Vhep",
     "timestamp": 1643335894641
    }
   ]
  },
  "kernelspec": {
   "display_name": "Python 3 (ipykernel)",
   "language": "python",
   "name": "python3"
  },
  "language_info": {
   "codemirror_mode": {
    "name": "ipython",
    "version": 3
   },
   "file_extension": ".py",
   "mimetype": "text/x-python",
   "name": "python",
   "nbconvert_exporter": "python",
   "pygments_lexer": "ipython3",
   "version": "3.8.16"
  }
 },
 "nbformat": 4,
 "nbformat_minor": 1
}
